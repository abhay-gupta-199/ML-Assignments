{
 "cells": [
  {
   "cell_type": "markdown",
   "id": "8b4d8001",
   "metadata": {},
   "source": [
    "### Task 7: Conceptual Questions"
   ]
  },
  {
   "cell_type": "markdown",
   "id": "559650a1",
   "metadata": {},
   "source": [
    "**1. What is the difference between Bagging and Boosting?**\n",
    "\n",
    "Bagging builds multiple models independently in parallel and averages their predictions to reduce variance. Boosting builds models sequentially, where each new model tries to correct the mistakes of the previous one — it focuses more on reducing bias."
   ]
  },
  {
   "cell_type": "markdown",
   "id": "c3cce738",
   "metadata": {},
   "source": [
    "**2. How does Random Forest reduce variance?**\n",
    "\n",
    "Random Forest uses bagging, meaning it trains multiple decision trees on different random subsets of the data and features. By averaging the outputs, it smooths out individual tree errors and lowers the chance of overfitting."
   ]
  },
  {
   "cell_type": "markdown",
   "id": "b472c092",
   "metadata": {},
   "source": [
    "**3. What is the weakness of boosting-based methods?**\n",
    "\n",
    "Boosting can be sensitive to noisy data and outliers since it gives more weight to misclassified points. It’s also more prone to overfitting if not properly tuned."
   ]
  }
 ],
 "metadata": {
  "language_info": {
   "name": "python"
  }
 },
 "nbformat": 4,
 "nbformat_minor": 5
}
