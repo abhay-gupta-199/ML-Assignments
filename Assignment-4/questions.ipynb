{
 "cells": [
  {
   "cell_type": "markdown",
   "id": "4b687813",
   "metadata": {},
   "source": [
    "### Answer the following in brief (2–4 sentences each):"
   ]
  },
  {
   "cell_type": "markdown",
   "id": "aa6e3925",
   "metadata": {},
   "source": [
    "**1. What are the assumptions of linear regression?**\n",
    "\n",
    "Linear regression assumes that there is a straight-line relationship between the input features and the target. It also assumes that the errors (or residuals) are spread out evenly, follow a normal distribution, and are not linked to each other. Also, the input features should not be too strongly related to one another."
   ]
  },
  {
   "cell_type": "markdown",
   "id": "02e56828",
   "metadata": {},
   "source": [
    "**2. When should you use logistic regression instead of linear regression?**\n",
    "\n",
    "Logistic regression is used when the target is a category, like \"yes or no\" or \"pass or fail\". Linear regression is used for predicting numbers, while logistic regression is better for predicting classes."
   ]
  },
  {
   "cell_type": "markdown",
   "id": "fca583f4",
   "metadata": {},
   "source": [
    "**3. What is the interpretation of coefficients in logistic regression?**\n",
    "\n",
    "Each coefficient in logistic regression tells us how a change in one input feature affects the chances of the output being a certain class. A positive value means it increases the chances, and a negative value means it decreases them."
   ]
  },
  {
   "cell_type": "markdown",
   "id": "7743e26d",
   "metadata": {},
   "source": [
    "**4. What is the difference between sigmoid and softmax functions?**\n",
    "\n",
    "The sigmoid function is used when there are two classes and gives a probability between 0 and 1. The softmax function is used when there are more than two classes and gives a set of probabilities that add up to 1, one for each class."
   ]
  },
  {
   "cell_type": "markdown",
   "id": "8697851f",
   "metadata": {},
   "source": [
    "**5. Why is R-squared not suitable for evaluating logistic regression models?**\n",
    "\n",
    "R-squared is meant for regression problems where the goal is to predict continuous values. Logistic regression deals with classification, so metrics like accuracy, precision, recall, and AUC are more useful for checking how good the model is."
   ]
  }
 ],
 "metadata": {
  "language_info": {
   "name": "python"
  }
 },
 "nbformat": 4,
 "nbformat_minor": 5
}
