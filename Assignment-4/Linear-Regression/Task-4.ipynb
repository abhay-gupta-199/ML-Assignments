{
 "cells": [
  {
   "cell_type": "markdown",
   "id": "8b64f44d",
   "metadata": {},
   "source": [
    "Task 4: Model Interpretation\n",
    "● Write Python code to:\n",
    "    ○ Show the correlation matrix using a heatmap.\n",
    "    ○ Identify which features have the strongest relationship with the target.\n",
    "    ○ Discuss multicollinearity and how it might affect regression."
   ]
  },
  {
   "cell_type": "code",
   "execution_count": null,
   "id": "84f15366",
   "metadata": {
    "vscode": {
     "languageId": "plaintext"
    }
   },
   "outputs": [],
   "source": []
  }
 ],
 "metadata": {
  "language_info": {
   "name": "python"
  }
 },
 "nbformat": 4,
 "nbformat_minor": 5
}
