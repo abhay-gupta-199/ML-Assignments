{
 "cells": [
  {
   "cell_type": "markdown",
   "id": "2fcc8195",
   "metadata": {},
   "source": [
    "Task 3: Feature Scaling and Normalization\n",
    "● Demonstrate the effect of standardizing features using\n",
    "StandardScaler.\n",
    "● Compare model performance before and after scaling."
   ]
  },
  {
   "cell_type": "code",
   "execution_count": null,
   "id": "b0e70855",
   "metadata": {
    "vscode": {
     "languageId": "plaintext"
    }
   },
   "outputs": [],
   "source": []
  }
 ],
 "metadata": {
  "language_info": {
   "name": "python"
  }
 },
 "nbformat": 4,
 "nbformat_minor": 5
}
