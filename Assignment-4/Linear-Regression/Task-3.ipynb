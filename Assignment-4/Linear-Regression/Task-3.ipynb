{
 "cells": [
  {
   "cell_type": "markdown",
   "id": "2fcc8195",
   "metadata": {},
   "source": [
    "Task 3: Feature Scaling and Normalization\n",
    "● Demonstrate the effect of standardizing features using\n",
    "StandardScaler.\n",
    "● Compare model performance before and after scaling."
   ]
  },
  {
   "cell_type": "code",
   "execution_count": 1,
   "id": "a327be10",
   "metadata": {},
   "outputs": [],
   "source": [
    "# Load data\n",
    "\n",
    "import pandas as pd\n",
    "from sklearn.datasets import fetch_california_housing\n",
    "from sklearn.model_selection import train_test_split\n",
    "\n",
    "housing = fetch_california_housing()\n",
    "X = pd.DataFrame(housing.data, columns=housing.feature_names)\n",
    "y = housing.target\n",
    "\n",
    "X_train, X_test, y_train, y_test = train_test_split(X, y, test_size=0.2, random_state=42)"
   ]
  },
  {
   "cell_type": "code",
   "execution_count": 4,
   "id": "43ffea08",
   "metadata": {},
   "outputs": [
    {
     "name": "stdout",
     "output_type": "stream",
     "text": [
      "Performance without scaling:\n",
      "R-squared: 0.5758\n",
      "MSE: 0.5559\n",
      "RMSE: 0.7456\n"
     ]
    }
   ],
   "source": [
    "# Train model and evaluations without scaling\n",
    "\n",
    "from sklearn.linear_model import LinearRegression\n",
    "from sklearn.metrics import r2_score, mean_squared_error\n",
    "import numpy as np\n",
    "\n",
    "model_unscaled = LinearRegression()\n",
    "model_unscaled.fit(X_train, y_train)\n",
    "y_pred_unscaled = model_unscaled.predict(X_test)\n",
    "\n",
    "r2_unscaled = r2_score(y_test, y_pred_unscaled)\n",
    "mse_unscaled = mean_squared_error(y_test, y_pred_unscaled)\n",
    "rmse_unscaled = np.sqrt(mse_unscaled)\n",
    "\n",
    "print(\"Performance without scaling:\")\n",
    "print(f\"R-squared: {r2_unscaled:.4f}\")\n",
    "print(f\"MSE: {mse_unscaled:.4f}\")\n",
    "print(f\"RMSE: {rmse_unscaled:.4f}\")"
   ]
  },
  {
   "cell_type": "code",
   "execution_count": 5,
   "id": "c97e39d7",
   "metadata": {},
   "outputs": [
    {
     "name": "stdout",
     "output_type": "stream",
     "text": [
      "\n",
      "Performance WITH StandardScaler:\n",
      "R-squared: 0.5758\n",
      "MSE: 0.5559\n",
      "RMSE: 0.7456\n"
     ]
    }
   ],
   "source": [
    "# Scale features, train model and evaluations with scaling\n",
    "\n",
    "from sklearn.preprocessing import StandardScaler\n",
    "\n",
    "scaler = StandardScaler()\n",
    "X_train_scaled = scaler.fit_transform(X_train)\n",
    "X_test_scaled = scaler.transform(X_test)\n",
    "\n",
    "model_scaled = LinearRegression()\n",
    "model_scaled.fit(X_train_scaled, y_train)\n",
    "y_pred_scaled = model_scaled.predict(X_test_scaled)\n",
    "\n",
    "r2_scaled = r2_score(y_test, y_pred_scaled)\n",
    "mse_scaled = mean_squared_error(y_test, y_pred_scaled)\n",
    "rmse_scaled = np.sqrt(mse_scaled)\n",
    "\n",
    "print(\"\\nPerformance WITH StandardScaler:\")\n",
    "print(f\"R-squared: {r2_scaled:.4f}\")\n",
    "print(f\"MSE: {mse_scaled:.4f}\")\n",
    "print(f\"RMSE: {rmse_scaled:.4f}\")\n"
   ]
  }
 ],
 "metadata": {
  "kernelspec": {
   "display_name": "Python 3",
   "language": "python",
   "name": "python3"
  },
  "language_info": {
   "codemirror_mode": {
    "name": "ipython",
    "version": 3
   },
   "file_extension": ".py",
   "mimetype": "text/x-python",
   "name": "python",
   "nbconvert_exporter": "python",
   "pygments_lexer": "ipython3",
   "version": "3.12.1"
  }
 },
 "nbformat": 4,
 "nbformat_minor": 5
}
